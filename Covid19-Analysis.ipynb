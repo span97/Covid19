{
 "cells": [
  {
   "cell_type": "code",
   "execution_count": 1,
   "metadata": {},
   "outputs": [],
   "source": [
    "import pandas as pd\n",
    "import numpy as np\n",
    "import plotly.express as px\n",
    "import matplotlib.pyplot as plt \n",
    "\n",
    "\n",
    "\n",
    "import dash\n",
    "import dash_core_components as dcc\n",
    "import dash_html_components as html\n",
    "\n",
    "from dash.dependencies import Input, Output , State\n",
    "\n",
    "import plotly.graph_objects as go # or plotly.express as px\n",
    "fig = go.Figure() "
   ]
  },
  {
   "cell_type": "code",
   "execution_count": 2,
   "metadata": {},
   "outputs": [
    {
     "name": "stdout",
     "output_type": "stream",
     "text": [
      "\n",
      "The start date :  2020-01-22\n",
      "\n",
      "The end date :  2020-12-31\n"
     ]
    }
   ],
   "source": [
    "year2020_dataset = \"https://raw.githubusercontent.com/datasets/covid-19/master/data/countries-aggregated.csv\"\n",
    "\n",
    "df = pd.read_csv(year2020_dataset)\n",
    "\n",
    "print(\"\\nThe start date : \",df.iloc[0]['Date'])\n",
    "\n",
    "print(\"\\nThe end date : \",df.iloc[-1]['Date'])\n",
    "\n",
    "unique_countries = df['Country'].unique()\n",
    "\n",
    "\n",
    "nCountries = len(unique_countries)\n",
    "\n",
    "\n"
   ]
  },
  {
   "cell_type": "code",
   "execution_count": 3,
   "metadata": {
    "scrolled": true
   },
   "outputs": [],
   "source": [
    "unique_countries = df['Country'].unique()\n",
    "max_infections =  []\n",
    "for i in unique_countries:\n",
    "    MIR = df[df.Country == i].Confirmed.diff().max()\n",
    "    max_infections.append(MIR)\n",
    "\n",
    "    "
   ]
  },
  {
   "cell_type": "code",
   "execution_count": 4,
   "metadata": {},
   "outputs": [
    {
     "data": {
      "text/html": [
       "<div>\n",
       "<style scoped>\n",
       "    .dataframe tbody tr th:only-of-type {\n",
       "        vertical-align: middle;\n",
       "    }\n",
       "\n",
       "    .dataframe tbody tr th {\n",
       "        vertical-align: top;\n",
       "    }\n",
       "\n",
       "    .dataframe thead th {\n",
       "        text-align: right;\n",
       "    }\n",
       "</style>\n",
       "<table border=\"1\" class=\"dataframe\">\n",
       "  <thead>\n",
       "    <tr style=\"text-align: right;\">\n",
       "      <th></th>\n",
       "      <th>Country</th>\n",
       "      <th>Max Infection Rate</th>\n",
       "    </tr>\n",
       "  </thead>\n",
       "  <tbody>\n",
       "    <tr>\n",
       "      <th>0</th>\n",
       "      <td>Afghanistan</td>\n",
       "      <td>915.0</td>\n",
       "    </tr>\n",
       "    <tr>\n",
       "      <th>1</th>\n",
       "      <td>Albania</td>\n",
       "      <td>879.0</td>\n",
       "    </tr>\n",
       "    <tr>\n",
       "      <th>2</th>\n",
       "      <td>Algeria</td>\n",
       "      <td>1133.0</td>\n",
       "    </tr>\n",
       "    <tr>\n",
       "      <th>3</th>\n",
       "      <td>Andorra</td>\n",
       "      <td>299.0</td>\n",
       "    </tr>\n",
       "    <tr>\n",
       "      <th>4</th>\n",
       "      <td>Angola</td>\n",
       "      <td>355.0</td>\n",
       "    </tr>\n",
       "  </tbody>\n",
       "</table>\n",
       "</div>"
      ],
      "text/plain": [
       "       Country  Max Infection Rate\n",
       "0  Afghanistan               915.0\n",
       "1      Albania               879.0\n",
       "2      Algeria              1133.0\n",
       "3      Andorra               299.0\n",
       "4       Angola               355.0"
      ]
     },
     "execution_count": 4,
     "metadata": {},
     "output_type": "execute_result"
    }
   ],
   "source": [
    "df_MIR = pd.DataFrame()\n",
    "df_MIR[\"Country\"] = unique_countries\n",
    "df_MIR[\"Max Infection Rate\"] = max_infections\n",
    "\n",
    "df_MIR.head()\n"
   ]
  },
  {
   "cell_type": "code",
   "execution_count": null,
   "metadata": {},
   "outputs": [],
   "source": [
    "fig = px.choropleth(df , locations = \"Country\", locationmode=\"country names\",\n",
    "                   color='Confirmed', animation_frame=\"Date\",color_continuous_scale=[\"white\", \"grey\", \"green\"])\n",
    "\n",
    "fig_1 = px.choropleth(df , locations = \"Country\", locationmode=\"country names\",\n",
    "                   color='Deaths', animation_frame=\"Date\" ,color_continuous_scale=[\"white\", \"grey\", \"black\"])\n",
    "\n",
    "\n",
    "fig_2 = px.bar(df_MIR ,x=\"Country\", y= \"Max Infection Rate\", color=\"Country\",log_y=True)\n",
    "\n",
    "\n",
    "fig.update_layout(\n",
    "    title_text = \"Covid-19 in the year 2020\",\n",
    "    margin=dict(l=100, r=100, t=50, b=50),\n",
    "    paper_bgcolor=\"white\",\n",
    "     font_color=\"Black\"\n",
    "   \n",
    ")\n",
    "\n",
    "\n",
    "fig_1.update_layout(\n",
    "    title_text = \"Covid-19 in the year 2020\",\n",
    "    margin=dict(l=100, r=100, t=50, b=50),\n",
    "    paper_bgcolor=\"white\",\n",
    "     font_color=\"Black\"\n",
    "   \n",
    ")\n",
    "\n",
    "\n",
    "app = dash.Dash()\n",
    "app.layout = html.Div(children =[\n",
    "    html.Div([\n",
    "        html.H3(children='Covid-19 Confirmed cases '),\n",
    "\n",
    "   \n",
    "    dcc.Graph(figure=fig),\n",
    "         ]),\n",
    "        \n",
    "    html.Div([\n",
    "        html.H3(children='Covid-19 Deaths'),\n",
    "      \n",
    "        \n",
    "        dcc.Graph(figure=fig_1)\n",
    "        ]),\n",
    "    \n",
    "    \n",
    "    html.Div([\n",
    "        html.H3(children='Country based '),\n",
    "       \n",
    "        \n",
    "        \n",
    "        dcc.Graph(figure=fig_2)\n",
    "        ]),\n",
    "\n",
    "\n",
    "])\n",
    "\n",
    "app.run_server(debug=True, use_reloader=False)  # Turn off reloader if inside Jupyter\n",
    "\n",
    "\n",
    "\n",
    "\n",
    "\n"
   ]
  },
  {
   "cell_type": "code",
   "execution_count": null,
   "metadata": {},
   "outputs": [],
   "source": []
  },
  {
   "cell_type": "code",
   "execution_count": null,
   "metadata": {},
   "outputs": [],
   "source": []
  }
 ],
 "metadata": {
  "kernelspec": {
   "display_name": "Python 3",
   "language": "python",
   "name": "python3"
  },
  "language_info": {
   "codemirror_mode": {
    "name": "ipython",
    "version": 3
   },
   "file_extension": ".py",
   "mimetype": "text/x-python",
   "name": "python",
   "nbconvert_exporter": "python",
   "pygments_lexer": "ipython3",
   "version": "3.8.5"
  }
 },
 "nbformat": 4,
 "nbformat_minor": 4
}
